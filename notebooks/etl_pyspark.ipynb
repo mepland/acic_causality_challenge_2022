{
 "cells": [
  {
   "cell_type": "markdown",
   "metadata": {},
   "source": [
    "# Setup"
   ]
  },
  {
   "cell_type": "code",
   "execution_count": null,
   "metadata": {},
   "outputs": [],
   "source": [
    "spark"
   ]
  },
  {
   "cell_type": "code",
   "execution_count": null,
   "metadata": {},
   "outputs": [],
   "source": [
    "%info"
   ]
  },
  {
   "cell_type": "code",
   "execution_count": 3,
   "metadata": {},
   "outputs": [],
   "source": [
    "import pyspark.sql.functions as F\n",
    "from pyspark.sql.types import IntegerType"
   ]
  },
  {
   "cell_type": "markdown",
   "metadata": {},
   "source": [
    "# Load CSVs From s3"
   ]
  },
  {
   "cell_type": "markdown",
   "metadata": {},
   "source": [
    "## `PATIENT`"
   ]
  },
  {
   "cell_type": "code",
   "execution_count": 4,
   "metadata": {},
   "outputs": [],
   "source": [
    "df_patient_raw = spark.read.options(header=True).csv('s3a://acic-causality-challenge-2022/patient/')"
   ]
  },
  {
   "cell_type": "code",
   "execution_count": 5,
   "metadata": {},
   "outputs": [],
   "source": [
    "df_patient = (df_patient_raw\n",
    ".withColumn('id_patient', F.col('`id.patient`').cast('int'))\n",
    ".withColumn('id_practice', F.col('`id.practice`').cast('int'))\n",
    ".withColumn('V1', F.col('V1').cast('double'))\n",
    ".withColumn('V2', F.col('V2').cast('int'))\n",
    ".withColumn('V3', F.col('V3').cast('int'))\n",
    ".withColumn('V4', F.col('V4').cast('double'))\n",
    ".withColumn('filename', F.regexp_replace(F.element_at(F.split(F.input_file_name(), '/'), -1), '\\.csv', '') )\n",
    ".withColumn('dataset_num', F.element_at(F.split(F.col('filename'), '_'), -1).cast('int') )\n",
    ".select(['dataset_num', 'id_patient', 'id_practice', 'V1', 'V2', 'V3', 'V4', 'V5', 'filename'])\n",
    ")"
   ]
  },
  {
   "cell_type": "code",
   "execution_count": 6,
   "metadata": {},
   "outputs": [
    {
     "data": {
      "text/plain": [
       "1348851109"
      ]
     },
     "execution_count": 6,
     "metadata": {},
     "output_type": "execute_result"
    }
   ],
   "source": [
    "df_patient.count()"
   ]
  },
  {
   "cell_type": "code",
   "execution_count": 7,
   "metadata": {},
   "outputs": [
    {
     "name": "stdout",
     "output_type": "stream",
     "text": [
      "root\n",
      " |-- dataset_num: integer (nullable = true)\n",
      " |-- id_patient: integer (nullable = true)\n",
      " |-- id_practice: integer (nullable = true)\n",
      " |-- V1: double (nullable = true)\n",
      " |-- V2: integer (nullable = true)\n",
      " |-- V3: integer (nullable = true)\n",
      " |-- V4: double (nullable = true)\n",
      " |-- V5: string (nullable = true)\n",
      " |-- filename: string (nullable = true)\n",
      "\n"
     ]
    }
   ],
   "source": [
    "df_patient.printSchema()"
   ]
  },
  {
   "cell_type": "markdown",
   "metadata": {},
   "source": [
    "## `PATIENT_YEAR`"
   ]
  },
  {
   "cell_type": "code",
   "execution_count": 8,
   "metadata": {},
   "outputs": [],
   "source": [
    "df_patient_year_raw = spark.read.options(header=True).csv('s3a://acic-causality-challenge-2022/patient_year/')"
   ]
  },
  {
   "cell_type": "code",
   "execution_count": 9,
   "metadata": {},
   "outputs": [],
   "source": [
    "df_patient_year = (df_patient_year_raw\n",
    ".withColumn('id_patient', F.col('`id.patient`').cast('int'))\n",
    ".withColumn('year', F.col('year').cast('int'))\n",
    ".withColumn('Y', F.col('Y').cast('double'))\n",
    ".withColumn('filename', F.regexp_replace(F.element_at(F.split(F.input_file_name(), '/'), -1), '\\.csv', '') )\n",
    ".withColumn('dataset_num', F.element_at(F.split(F.col('filename'), '_'), -1).cast('int') )\n",
    ".select(['dataset_num', 'id_patient', 'year', 'Y', 'filename'])\n",
    ")"
   ]
  },
  {
   "cell_type": "code",
   "execution_count": 10,
   "metadata": {},
   "outputs": [
    {
     "data": {
      "text/plain": [
       "4170584842"
      ]
     },
     "execution_count": 10,
     "metadata": {},
     "output_type": "execute_result"
    }
   ],
   "source": [
    "df_patient_year.count()"
   ]
  },
  {
   "cell_type": "code",
   "execution_count": 11,
   "metadata": {},
   "outputs": [
    {
     "name": "stdout",
     "output_type": "stream",
     "text": [
      "root\n",
      " |-- dataset_num: integer (nullable = true)\n",
      " |-- id_patient: integer (nullable = true)\n",
      " |-- year: integer (nullable = true)\n",
      " |-- Y: double (nullable = true)\n",
      " |-- filename: string (nullable = true)\n",
      "\n"
     ]
    }
   ],
   "source": [
    "df_patient_year.printSchema()"
   ]
  },
  {
   "cell_type": "markdown",
   "metadata": {},
   "source": [
    "## `PRACTICE`"
   ]
  },
  {
   "cell_type": "code",
   "execution_count": 12,
   "metadata": {},
   "outputs": [],
   "source": [
    "df_practice_raw = spark.read.options(header=True).csv('s3a://acic-causality-challenge-2022/practice/')"
   ]
  },
  {
   "cell_type": "code",
   "execution_count": 13,
   "metadata": {},
   "outputs": [],
   "source": [
    "df_practice = (df_practice_raw\n",
    ".withColumn('id_practice', F.col('`id.practice`').cast('int'))\n",
    ".withColumn('X1', F.col('X1').cast('int'))\n",
    ".withColumn('X3', F.col('X3').cast('int'))\n",
    ".withColumn('X5', F.col('X5').cast('int'))\n",
    ".withColumn('X6', F.col('X6').cast('double'))\n",
    ".withColumn('X7', F.col('X7').cast('double'))\n",
    ".withColumn('X8', F.col('X8').cast('double'))\n",
    ".withColumn('X9', F.col('X9').cast('double'))\n",
    ".withColumn('filename', F.regexp_replace(F.element_at(F.split(F.input_file_name(), '/'), -1), '\\.csv', '') )\n",
    ".withColumn('dataset_num', F.element_at(F.split(F.col('filename'), '_'), -1).cast('int') )\n",
    ".select(['dataset_num', 'id_practice', 'X1', 'X2', 'X3', 'X4', 'X5', 'X6', 'X7', 'X8', 'X9', 'filename'])\n",
    ")"
   ]
  },
  {
   "cell_type": "code",
   "execution_count": 14,
   "metadata": {},
   "outputs": [
    {
     "data": {
      "text/plain": [
       "1700000"
      ]
     },
     "execution_count": 14,
     "metadata": {},
     "output_type": "execute_result"
    }
   ],
   "source": [
    "df_practice.count()"
   ]
  },
  {
   "cell_type": "code",
   "execution_count": 15,
   "metadata": {},
   "outputs": [
    {
     "name": "stdout",
     "output_type": "stream",
     "text": [
      "root\n",
      " |-- dataset_num: integer (nullable = true)\n",
      " |-- id_practice: integer (nullable = true)\n",
      " |-- X1: integer (nullable = true)\n",
      " |-- X2: string (nullable = true)\n",
      " |-- X3: integer (nullable = true)\n",
      " |-- X4: string (nullable = true)\n",
      " |-- X5: integer (nullable = true)\n",
      " |-- X6: double (nullable = true)\n",
      " |-- X7: double (nullable = true)\n",
      " |-- X8: double (nullable = true)\n",
      " |-- X9: double (nullable = true)\n",
      " |-- filename: string (nullable = true)\n",
      "\n"
     ]
    }
   ],
   "source": [
    "df_practice.printSchema()"
   ]
  },
  {
   "cell_type": "markdown",
   "metadata": {},
   "source": [
    "## `PRACTICE_YEAR`"
   ]
  },
  {
   "cell_type": "code",
   "execution_count": 16,
   "metadata": {},
   "outputs": [],
   "source": [
    "df_practice_year_raw = spark.read.options(header=True).csv('s3a://acic-causality-challenge-2022/practice_year/')"
   ]
  },
  {
   "cell_type": "code",
   "execution_count": 17,
   "metadata": {},
   "outputs": [],
   "source": [
    "df_practice_year = (df_practice_year_raw\n",
    ".withColumn('id_practice', F.col('`id.practice`').cast('int'))\n",
    ".withColumn('year', F.col('year').cast('int'))\n",
    ".withColumn('Y', F.col('Y').cast('double'))\n",
    ".withColumn('Z', F.col('Z').cast('int'))\n",
    ".withColumn('post', F.col('post').cast('int'))\n",
    ".withColumn('n_patients', F.col('`n.patients`').cast('int'))\n",
    ".withColumn('V1_avg', F.col('V1_avg').cast('double'))\n",
    ".withColumn('V2_avg', F.col('V2_avg').cast('double'))\n",
    ".withColumn('V3_avg', F.col('V3_avg').cast('double'))\n",
    ".withColumn('V4_avg', F.col('V4_avg').cast('double'))\n",
    ".withColumn('V5_A_avg', F.col('V5_A_avg').cast('double'))\n",
    ".withColumn('V5_B_avg', F.col('V5_B_avg').cast('double'))\n",
    ".withColumn('V5_C_avg', F.col('V5_C_avg').cast('double'))\n",
    ".withColumn('filename', F.regexp_replace(F.element_at(F.split(F.input_file_name(), '/'), -1), '\\.csv', '') )\n",
    ".withColumn('dataset_num', F.element_at(F.split(F.col('filename'), '_'), -1).cast('int') )\n",
    ".select(['dataset_num', 'id_practice', 'year', 'Y', 'Z', 'post', 'n_patients',\n",
    "         'V1_avg', 'V2_avg', 'V3_avg', 'V4_avg', 'V5_A_avg', 'V5_B_avg', 'V5_C_avg', 'filename'])\n",
    ")"
   ]
  },
  {
   "cell_type": "code",
   "execution_count": 18,
   "metadata": {},
   "outputs": [
    {
     "data": {
      "text/plain": [
       "6800000"
      ]
     },
     "execution_count": 18,
     "metadata": {},
     "output_type": "execute_result"
    }
   ],
   "source": [
    "df_practice_year.count()"
   ]
  },
  {
   "cell_type": "code",
   "execution_count": 19,
   "metadata": {},
   "outputs": [
    {
     "name": "stdout",
     "output_type": "stream",
     "text": [
      "root\n",
      " |-- dataset_num: integer (nullable = true)\n",
      " |-- id_practice: integer (nullable = true)\n",
      " |-- year: integer (nullable = true)\n",
      " |-- Y: double (nullable = true)\n",
      " |-- Z: integer (nullable = true)\n",
      " |-- post: integer (nullable = true)\n",
      " |-- n_patients: integer (nullable = true)\n",
      " |-- V1_avg: double (nullable = true)\n",
      " |-- V2_avg: double (nullable = true)\n",
      " |-- V3_avg: double (nullable = true)\n",
      " |-- V4_avg: double (nullable = true)\n",
      " |-- V5_A_avg: double (nullable = true)\n",
      " |-- V5_B_avg: double (nullable = true)\n",
      " |-- V5_C_avg: double (nullable = true)\n",
      " |-- filename: string (nullable = true)\n",
      "\n"
     ]
    }
   ],
   "source": [
    "df_practice_year.printSchema()"
   ]
  },
  {
   "cell_type": "markdown",
   "metadata": {},
   "source": [
    "# Encode Tables"
   ]
  },
  {
   "cell_type": "markdown",
   "metadata": {},
   "source": [
    "## Prep One Hot Encoding Code"
   ]
  },
  {
   "cell_type": "raw",
   "metadata": {},
   "source": [
    "# Pyspark native one hot encoding pipeline makes hard to read dense vectors\n",
    "\n",
    "# from pyspark.ml.feature import StringIndexer\n",
    "# from pyspark.ml.feature import OneHotEncoder\n",
    "\n",
    "# def my_one_hot_encoder(df_in, inputCols, output_postfix='_vec'):\n",
    "#     index_cols = [f'{col}_index' for col in inputCols]\n",
    "#     output_cols = [f'{col}{output_postfix}' for col in inputCols]\n",
    "\n",
    "#     indexer = StringIndexer(inputCols=inputCols, outputCols=index_cols)\n",
    "#     df_indexed = indexer.fit(df_in).transform(df_in)\n",
    "\n",
    "#     encoder = OneHotEncoder(inputCols=index_cols, outputCols=output_cols, dropLast=False)\n",
    "#     df_out = encoder.fit(df_indexed).transform(df_indexed)\n",
    "\n",
    "#     return df_out"
   ]
  },
  {
   "cell_type": "code",
   "execution_count": 20,
   "metadata": {},
   "outputs": [],
   "source": [
    "# Let's do it ourselves in a human readable way\n",
    "# adapted from https://towardsdev.com/how-to-write-pyspark-one-hot-encoding-results-to-an-interpretable-csv-file-626ecb973962\n",
    "\n",
    "def my_one_hot_encoder(_df, inputCols, drop_old_cols=False):\n",
    "    new_cols = []\n",
    "\n",
    "    def _my_one_hot_encoder_col(_df, inputCol):\n",
    "        _new_cols = []\n",
    "\n",
    "        distinct_values = sorted(_df.select(inputCol).distinct().rdd.flatMap(lambda x: x).collect())\n",
    "\n",
    "        for distinct_value in distinct_values:\n",
    "            _udf = F.udf(lambda item: 1 if item == distinct_value else 0, IntegerType())\n",
    "\n",
    "            _new_col = f'{inputCol}_{distinct_value}'\n",
    "            _new_cols.append(_new_col)\n",
    "\n",
    "            _df = _df.withColumn(_new_col, _udf(F.col(inputCol)))\n",
    "\n",
    "        return _df, _new_cols\n",
    "\n",
    "    for inputCol in inputCols:\n",
    "        _df, _new_cols = _my_one_hot_encoder_col(_df, inputCol)\n",
    "        new_cols.extend(_new_cols)\n",
    "\n",
    "    if drop_old_cols:\n",
    "        _df = _df.select([col for col in _df.columns if col not in inputCols])\n",
    "\n",
    "    return _df"
   ]
  },
  {
   "cell_type": "markdown",
   "metadata": {},
   "source": [
    "## Run Encoding"
   ]
  },
  {
   "cell_type": "code",
   "execution_count": 21,
   "metadata": {},
   "outputs": [],
   "source": [
    "df_patient_encoded = my_one_hot_encoder(df_patient, inputCols=['V5'])\n",
    "df_patient_encoded = df_patient_encoded.select(['dataset_num', 'id_patient', 'id_practice',\n",
    "    'V1', 'V2', 'V3', 'V4', 'V5',\n",
    "    'V5_A', 'V5_B', 'V5_C',\n",
    "    'filename'])"
   ]
  },
  {
   "cell_type": "code",
   "execution_count": 22,
   "metadata": {},
   "outputs": [],
   "source": [
    "df_practice_encoded = my_one_hot_encoder(df_practice, inputCols=['X2', 'X4'])\n",
    "df_practice_encoded = df_practice_encoded.select(['dataset_num', 'id_practice',\n",
    "    'X1', 'X2', 'X3', 'X4', 'X5', 'X6', 'X7', 'X8', 'X9',\n",
    "    'X2_A', 'X2_B', 'X2_C', 'X4_A', 'X4_B', 'X4_C',\n",
    "    'filename'])"
   ]
  },
  {
   "cell_type": "markdown",
   "metadata": {},
   "source": [
    "## Save to Parquet"
   ]
  },
  {
   "cell_type": "code",
   "execution_count": 23,
   "metadata": {},
   "outputs": [],
   "source": [
    "df_patient_encoded.write.parquet('s3a://acic-causality-challenge-2022/parquet/patient', mode='overwrite')"
   ]
  },
  {
   "cell_type": "code",
   "execution_count": 24,
   "metadata": {},
   "outputs": [],
   "source": [
    "df_patient_year.write.parquet('s3a://acic-causality-challenge-2022/parquet/patient_year', mode='overwrite')"
   ]
  },
  {
   "cell_type": "code",
   "execution_count": 25,
   "metadata": {},
   "outputs": [],
   "source": [
    "df_practice_encoded.write.parquet('s3a://acic-causality-challenge-2022/parquet/practice', mode='overwrite')"
   ]
  },
  {
   "cell_type": "code",
   "execution_count": 26,
   "metadata": {},
   "outputs": [],
   "source": [
    "df_practice_year.write.parquet('s3a://acic-causality-challenge-2022/parquet/practice_year', mode='overwrite')"
   ]
  },
  {
   "cell_type": "markdown",
   "metadata": {},
   "source": [
    "# Join Tables"
   ]
  },
  {
   "cell_type": "markdown",
   "metadata": {},
   "source": [
    "## Patient Level"
   ]
  },
  {
   "cell_type": "code",
   "execution_count": 27,
   "metadata": {},
   "outputs": [],
   "source": [
    "patient_features = [col for col in df_patient_year.columns + df_patient_encoded.columns\n",
    "    if col not in ['dataset_num', 'id_practice', 'id_patient', 'year', 'filename']]"
   ]
  },
  {
   "cell_type": "code",
   "execution_count": 28,
   "metadata": {},
   "outputs": [
    {
     "data": {
      "text/plain": [
       "['Y', 'V1', 'V2', 'V3', 'V4', 'V5', 'V5_A', 'V5_B', 'V5_C']"
      ]
     },
     "execution_count": 28,
     "metadata": {},
     "output_type": "execute_result"
    }
   ],
   "source": [
    "patient_features"
   ]
  },
  {
   "cell_type": "code",
   "execution_count": 29,
   "metadata": {},
   "outputs": [],
   "source": [
    "df_patient_joined = (df_patient_year\n",
    "    .join(df_patient_encoded, ['dataset_num', 'id_patient'], 'left')\n",
    "    .select(['dataset_num', 'id_practice', 'id_patient', 'year'] + patient_features)\n",
    ")"
   ]
  },
  {
   "cell_type": "code",
   "execution_count": 30,
   "metadata": {},
   "outputs": [],
   "source": [
    "df_patient_joined.persist();"
   ]
  },
  {
   "cell_type": "code",
   "execution_count": 31,
   "metadata": {},
   "outputs": [
    {
     "data": {
      "text/plain": [
       "4170584842"
      ]
     },
     "execution_count": 31,
     "metadata": {},
     "output_type": "execute_result"
    }
   ],
   "source": [
    "df_patient_joined.count()"
   ]
  },
  {
   "cell_type": "code",
   "execution_count": 32,
   "metadata": {},
   "outputs": [
    {
     "name": "stdout",
     "output_type": "stream",
     "text": [
      "root\n",
      " |-- dataset_num: integer (nullable = true)\n",
      " |-- id_practice: integer (nullable = true)\n",
      " |-- id_patient: integer (nullable = true)\n",
      " |-- year: integer (nullable = true)\n",
      " |-- Y: double (nullable = true)\n",
      " |-- V1: double (nullable = true)\n",
      " |-- V2: integer (nullable = true)\n",
      " |-- V3: integer (nullable = true)\n",
      " |-- V4: double (nullable = true)\n",
      " |-- V5: string (nullable = true)\n",
      " |-- V5_A: integer (nullable = true)\n",
      " |-- V5_B: integer (nullable = true)\n",
      " |-- V5_C: integer (nullable = true)\n",
      "\n"
     ]
    }
   ],
   "source": [
    "df_patient_joined.printSchema()"
   ]
  },
  {
   "cell_type": "markdown",
   "metadata": {},
   "source": [
    "## Practice Level"
   ]
  },
  {
   "cell_type": "code",
   "execution_count": 33,
   "metadata": {},
   "outputs": [],
   "source": [
    "practice_features = [col for col in df_practice_year.columns + df_practice_encoded.columns\n",
    "    if col not in ['dataset_num', 'id_practice', 'year', 'Z', 'post', 'filename']]"
   ]
  },
  {
   "cell_type": "code",
   "execution_count": 34,
   "metadata": {},
   "outputs": [
    {
     "data": {
      "text/plain": [
       "['Y',\n",
       " 'n_patients',\n",
       " 'V1_avg',\n",
       " 'V2_avg',\n",
       " 'V3_avg',\n",
       " 'V4_avg',\n",
       " 'V5_A_avg',\n",
       " 'V5_B_avg',\n",
       " 'V5_C_avg',\n",
       " 'X1',\n",
       " 'X2',\n",
       " 'X3',\n",
       " 'X4',\n",
       " 'X5',\n",
       " 'X6',\n",
       " 'X7',\n",
       " 'X8',\n",
       " 'X9',\n",
       " 'X2_A',\n",
       " 'X2_B',\n",
       " 'X2_C',\n",
       " 'X4_A',\n",
       " 'X4_B',\n",
       " 'X4_C']"
      ]
     },
     "execution_count": 34,
     "metadata": {},
     "output_type": "execute_result"
    }
   ],
   "source": [
    "practice_features"
   ]
  },
  {
   "cell_type": "code",
   "execution_count": 35,
   "metadata": {},
   "outputs": [],
   "source": [
    "df_practice_joined = (df_practice_year\n",
    "    .join(df_practice_encoded, ['dataset_num', 'id_practice'], 'left')\n",
    "    .select(['dataset_num', 'id_practice', 'Z', 'post', 'year'] + practice_features)\n",
    ")"
   ]
  },
  {
   "cell_type": "code",
   "execution_count": 36,
   "metadata": {},
   "outputs": [],
   "source": [
    "df_practice_joined.persist();"
   ]
  },
  {
   "cell_type": "code",
   "execution_count": 37,
   "metadata": {},
   "outputs": [
    {
     "data": {
      "text/plain": [
       "6800000"
      ]
     },
     "execution_count": 37,
     "metadata": {},
     "output_type": "execute_result"
    }
   ],
   "source": [
    "df_practice_joined.count()"
   ]
  },
  {
   "cell_type": "code",
   "execution_count": 38,
   "metadata": {},
   "outputs": [
    {
     "name": "stdout",
     "output_type": "stream",
     "text": [
      "root\n",
      " |-- dataset_num: integer (nullable = true)\n",
      " |-- id_practice: integer (nullable = true)\n",
      " |-- Z: integer (nullable = true)\n",
      " |-- post: integer (nullable = true)\n",
      " |-- year: integer (nullable = true)\n",
      " |-- Y: double (nullable = true)\n",
      " |-- n_patients: integer (nullable = true)\n",
      " |-- V1_avg: double (nullable = true)\n",
      " |-- V2_avg: double (nullable = true)\n",
      " |-- V3_avg: double (nullable = true)\n",
      " |-- V4_avg: double (nullable = true)\n",
      " |-- V5_A_avg: double (nullable = true)\n",
      " |-- V5_B_avg: double (nullable = true)\n",
      " |-- V5_C_avg: double (nullable = true)\n",
      " |-- X1: integer (nullable = true)\n",
      " |-- X2: string (nullable = true)\n",
      " |-- X3: integer (nullable = true)\n",
      " |-- X4: string (nullable = true)\n",
      " |-- X5: integer (nullable = true)\n",
      " |-- X6: double (nullable = true)\n",
      " |-- X7: double (nullable = true)\n",
      " |-- X8: double (nullable = true)\n",
      " |-- X9: double (nullable = true)\n",
      " |-- X2_A: integer (nullable = true)\n",
      " |-- X2_B: integer (nullable = true)\n",
      " |-- X2_C: integer (nullable = true)\n",
      " |-- X4_A: integer (nullable = true)\n",
      " |-- X4_B: integer (nullable = true)\n",
      " |-- X4_C: integer (nullable = true)\n",
      "\n"
     ]
    }
   ],
   "source": [
    "df_practice_joined.printSchema()"
   ]
  },
  {
   "cell_type": "markdown",
   "metadata": {},
   "source": [
    "## Save to Parquet"
   ]
  },
  {
   "cell_type": "code",
   "execution_count": 39,
   "metadata": {},
   "outputs": [],
   "source": [
    "df_patient_joined.write.parquet('s3a://acic-causality-challenge-2022/patient_joined', mode='overwrite')"
   ]
  },
  {
   "cell_type": "code",
   "execution_count": 40,
   "metadata": {},
   "outputs": [],
   "source": [
    "df_practice_joined.write.parquet('s3a://acic-causality-challenge-2022/practice_joined', mode='overwrite')"
   ]
  }
 ],
 "metadata": {
  "jupytext": {
   "cell_metadata_filter": "-all",
   "notebook_metadata_filter": "-all"
  },
  "kernelspec": {
   "display_name": "Python 3 (ipykernel)",
   "language": "python",
   "name": "python3"
  },
  "language_info": {
   "codemirror_mode": {
    "name": "ipython",
    "version": 3
   },
   "file_extension": ".py",
   "mimetype": "text/x-python",
   "name": "python",
   "nbconvert_exporter": "python",
   "pygments_lexer": "ipython3",
   "version": "3.9.15"
  }
 },
 "nbformat": 4,
 "nbformat_minor": 4
}
